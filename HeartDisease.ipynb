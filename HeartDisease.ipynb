{
 "cells": [
  {
   "cell_type": "code",
   "id": "d13f3162-a99e-4843-ae0a-1324c8f5b8e7",
   "metadata": {
    "ExecuteTime": {
     "end_time": "2024-10-30T15:07:12.301466Z",
     "start_time": "2024-10-30T15:07:09.483177Z"
    }
   },
   "source": [
    "import pandas as pd\n",
    "import numpy as np\n",
    "import matplotlib.pyplot as plt\n",
    "import seaborn as sns\n",
    "from sklearn.model_selection import train_test_split\n",
    "from sklearn.preprocessing import StandardScaler\n",
    "from sklearn.metrics import classification_report, accuracy_score\n",
    "import tensorflow as tf\n",
    "from tensorflow.keras.models import Sequential\n",
    "from tensorflow.keras.layers import Dense\n",
    "import joblib"
   ],
   "outputs": [],
   "execution_count": 1
  },
  {
   "cell_type": "code",
   "id": "3d0a1e72-8219-47d9-bab0-c0ef68547fe3",
   "metadata": {
    "ExecuteTime": {
     "end_time": "2024-10-30T15:07:12.325780Z",
     "start_time": "2024-10-30T15:07:12.308503Z"
    }
   },
   "source": [
    "# Loading dataset\n",
    "data = pd.read_csv(r'C:\\Users\\Kruti Agrawal\\Desktop\\Projects\\heart_disease\\Heart Disease\\dataset.csv')  \n",
    "print(data.head())"
   ],
   "outputs": [
    {
     "name": "stdout",
     "output_type": "stream",
     "text": [
      "   age  sex  chest pain type  resting bp s  cholesterol  fasting blood sugar  \\\n",
      "0   40    1                2           140          289                    0   \n",
      "1   49    0                3           160          180                    0   \n",
      "2   37    1                2           130          283                    0   \n",
      "3   48    0                4           138          214                    0   \n",
      "4   54    1                3           150          195                    0   \n",
      "\n",
      "   resting ecg  max heart rate  exercise angina  oldpeak  ST slope  target  \n",
      "0            0             172                0      0.0         1       0  \n",
      "1            0             156                0      1.0         2       1  \n",
      "2            1              98                0      0.0         1       0  \n",
      "3            0             108                1      1.5         2       1  \n",
      "4            0             122                0      0.0         1       0  \n"
     ]
    }
   ],
   "execution_count": 2
  },
  {
   "cell_type": "code",
   "id": "c5fb0829-f259-4b60-b0e0-530b25a37f71",
   "metadata": {
    "ExecuteTime": {
     "end_time": "2024-10-30T15:07:12.448621Z",
     "start_time": "2024-10-30T15:07:12.411898Z"
    }
   },
   "source": [
    "# Checking for missing values\n",
    "print(data.isnull().sum())"
   ],
   "outputs": [
    {
     "name": "stdout",
     "output_type": "stream",
     "text": [
      "age                    0\n",
      "sex                    0\n",
      "chest pain type        0\n",
      "resting bp s           0\n",
      "cholesterol            0\n",
      "fasting blood sugar    0\n",
      "resting ecg            0\n",
      "max heart rate         0\n",
      "exercise angina        0\n",
      "oldpeak                0\n",
      "ST slope               0\n",
      "target                 0\n",
      "dtype: int64\n"
     ]
    }
   ],
   "execution_count": 3
  },
  {
   "cell_type": "code",
   "id": "4e32cdff-64a2-4325-835b-c6c4ad7d03e3",
   "metadata": {
    "ExecuteTime": {
     "end_time": "2024-10-30T15:07:12.493467Z",
     "start_time": "2024-10-30T15:07:12.464963Z"
    }
   },
   "source": [
    "# Statistical summary\n",
    "print(data.describe())"
   ],
   "outputs": [
    {
     "name": "stdout",
     "output_type": "stream",
     "text": [
      "               age          sex  chest pain type  resting bp s  cholesterol  \\\n",
      "count  1190.000000  1190.000000      1190.000000   1190.000000  1190.000000   \n",
      "mean     53.720168     0.763866         3.232773    132.153782   210.363866   \n",
      "std       9.358203     0.424884         0.935480     18.368823   101.420489   \n",
      "min      28.000000     0.000000         1.000000      0.000000     0.000000   \n",
      "25%      47.000000     1.000000         3.000000    120.000000   188.000000   \n",
      "50%      54.000000     1.000000         4.000000    130.000000   229.000000   \n",
      "75%      60.000000     1.000000         4.000000    140.000000   269.750000   \n",
      "max      77.000000     1.000000         4.000000    200.000000   603.000000   \n",
      "\n",
      "       fasting blood sugar  resting ecg  max heart rate  exercise angina  \\\n",
      "count          1190.000000  1190.000000     1190.000000      1190.000000   \n",
      "mean              0.213445     0.698319      139.732773         0.387395   \n",
      "std               0.409912     0.870359       25.517636         0.487360   \n",
      "min               0.000000     0.000000       60.000000         0.000000   \n",
      "25%               0.000000     0.000000      121.000000         0.000000   \n",
      "50%               0.000000     0.000000      140.500000         0.000000   \n",
      "75%               0.000000     2.000000      160.000000         1.000000   \n",
      "max               1.000000     2.000000      202.000000         1.000000   \n",
      "\n",
      "           oldpeak     ST slope       target  \n",
      "count  1190.000000  1190.000000  1190.000000  \n",
      "mean      0.922773     1.624370     0.528571  \n",
      "std       1.086337     0.610459     0.499393  \n",
      "min      -2.600000     0.000000     0.000000  \n",
      "25%       0.000000     1.000000     0.000000  \n",
      "50%       0.600000     2.000000     1.000000  \n",
      "75%       1.600000     2.000000     1.000000  \n",
      "max       6.200000     3.000000     1.000000  \n"
     ]
    }
   ],
   "execution_count": 4
  },
  {
   "cell_type": "code",
   "id": "47733a8d-2de1-46c9-88ef-5b7b164a5a61",
   "metadata": {
    "ExecuteTime": {
     "end_time": "2024-10-30T15:07:12.520646Z",
     "start_time": "2024-10-30T15:07:12.509423Z"
    }
   },
   "source": [
    "# Separating features and target variable\n",
    "X = data.drop('target', axis=1)\n",
    "y = data['target']"
   ],
   "outputs": [],
   "execution_count": 5
  },
  {
   "cell_type": "code",
   "id": "b9df1d9c-e45c-4aa2-a14c-fa918df9d1d1",
   "metadata": {
    "ExecuteTime": {
     "end_time": "2024-10-30T15:07:12.545896Z",
     "start_time": "2024-10-30T15:07:12.539290Z"
    }
   },
   "source": [
    "# Train-test split\n",
    "X_train, X_test, y_train, y_test = train_test_split(X, y, test_size=0.2, random_state=42)"
   ],
   "outputs": [],
   "execution_count": 6
  },
  {
   "cell_type": "code",
   "id": "d7c65107-3cff-4eac-8cae-d5354d2b328d",
   "metadata": {
    "ExecuteTime": {
     "end_time": "2024-10-30T15:07:12.591435Z",
     "start_time": "2024-10-30T15:07:12.578575Z"
    }
   },
   "source": [
    "# Standardizing the data\n",
    "scaler = StandardScaler()\n",
    "X_train = scaler.fit_transform(X_train)\n",
    "X_test = scaler.transform(X_test)"
   ],
   "outputs": [],
   "execution_count": 7
  },
  {
   "cell_type": "code",
   "id": "b6cbca87-8b3b-4b42-bd47-600fdde36a59",
   "metadata": {
    "ExecuteTime": {
     "end_time": "2024-10-30T15:07:12.704196Z",
     "start_time": "2024-10-30T15:07:12.609498Z"
    }
   },
   "source": [
    "# Defining the model\n",
    "model = Sequential()\n",
    "model.add(Dense(32, input_shape=(X_train.shape[1],), activation='relu'))\n",
    "model.add(Dense(16, activation='relu'))\n",
    "model.add(Dense(8, activation='relu'))\n",
    "model.add(Dense(1, activation='sigmoid'))\n",
    "\n",
    "# Compiling the model\n",
    "model.compile(optimizer='adam', loss='binary_crossentropy', metrics=['accuracy'])"
   ],
   "outputs": [],
   "execution_count": 8
  },
  {
   "cell_type": "code",
   "id": "c0821157-9cf9-4cdb-9ce7-8dba24df0ca8",
   "metadata": {
    "ExecuteTime": {
     "end_time": "2024-10-30T15:07:19.459392Z",
     "start_time": "2024-10-30T15:07:12.720195Z"
    }
   },
   "source": [
    "# Train the model\n",
    "history = model.fit(X_train, y_train, validation_data=(X_test, y_test), epochs=50, batch_size=10)"
   ],
   "outputs": [
    {
     "name": "stdout",
     "output_type": "stream",
     "text": [
      "Epoch 1/50\n",
      "96/96 [==============================] - 1s 3ms/step - loss: 0.6287 - accuracy: 0.6513 - val_loss: 0.4930 - val_accuracy: 0.8067\n",
      "Epoch 2/50\n",
      "96/96 [==============================] - 0s 1ms/step - loss: 0.4397 - accuracy: 0.8162 - val_loss: 0.3985 - val_accuracy: 0.8277\n",
      "Epoch 3/50\n",
      "96/96 [==============================] - 0s 1ms/step - loss: 0.3832 - accuracy: 0.8288 - val_loss: 0.3709 - val_accuracy: 0.8403\n",
      "Epoch 4/50\n",
      "96/96 [==============================] - 0s 1ms/step - loss: 0.3622 - accuracy: 0.8393 - val_loss: 0.3544 - val_accuracy: 0.8613\n",
      "Epoch 5/50\n",
      "96/96 [==============================] - 0s 1ms/step - loss: 0.3479 - accuracy: 0.8519 - val_loss: 0.3411 - val_accuracy: 0.8697\n",
      "Epoch 6/50\n",
      "96/96 [==============================] - 0s 1ms/step - loss: 0.3333 - accuracy: 0.8613 - val_loss: 0.3341 - val_accuracy: 0.8824\n",
      "Epoch 7/50\n",
      "96/96 [==============================] - 0s 1ms/step - loss: 0.3226 - accuracy: 0.8666 - val_loss: 0.3250 - val_accuracy: 0.8908\n",
      "Epoch 8/50\n",
      "96/96 [==============================] - 0s 1ms/step - loss: 0.3125 - accuracy: 0.8739 - val_loss: 0.3195 - val_accuracy: 0.8908\n",
      "Epoch 9/50\n",
      "96/96 [==============================] - 0s 1ms/step - loss: 0.3062 - accuracy: 0.8718 - val_loss: 0.3143 - val_accuracy: 0.8992\n",
      "Epoch 10/50\n",
      "96/96 [==============================] - 0s 1ms/step - loss: 0.2970 - accuracy: 0.8918 - val_loss: 0.3108 - val_accuracy: 0.8866\n",
      "Epoch 11/50\n",
      "96/96 [==============================] - 0s 1ms/step - loss: 0.2899 - accuracy: 0.8950 - val_loss: 0.3036 - val_accuracy: 0.8992\n",
      "Epoch 12/50\n",
      "96/96 [==============================] - 0s 1ms/step - loss: 0.2816 - accuracy: 0.8876 - val_loss: 0.3033 - val_accuracy: 0.8992\n",
      "Epoch 13/50\n",
      "96/96 [==============================] - 0s 1ms/step - loss: 0.2764 - accuracy: 0.8866 - val_loss: 0.3013 - val_accuracy: 0.8782\n",
      "Epoch 14/50\n",
      "96/96 [==============================] - 0s 1ms/step - loss: 0.2695 - accuracy: 0.8960 - val_loss: 0.2962 - val_accuracy: 0.8950\n",
      "Epoch 15/50\n",
      "96/96 [==============================] - 0s 1ms/step - loss: 0.2620 - accuracy: 0.9002 - val_loss: 0.2941 - val_accuracy: 0.8992\n",
      "Epoch 16/50\n",
      "96/96 [==============================] - 0s 1ms/step - loss: 0.2562 - accuracy: 0.9034 - val_loss: 0.2929 - val_accuracy: 0.8824\n",
      "Epoch 17/50\n",
      "96/96 [==============================] - 0s 1ms/step - loss: 0.2503 - accuracy: 0.9086 - val_loss: 0.2927 - val_accuracy: 0.8655\n",
      "Epoch 18/50\n",
      "96/96 [==============================] - 0s 1ms/step - loss: 0.2450 - accuracy: 0.9086 - val_loss: 0.2905 - val_accuracy: 0.8782\n",
      "Epoch 19/50\n",
      "96/96 [==============================] - 0s 1ms/step - loss: 0.2387 - accuracy: 0.9107 - val_loss: 0.2928 - val_accuracy: 0.8908\n",
      "Epoch 20/50\n",
      "96/96 [==============================] - 0s 1ms/step - loss: 0.2333 - accuracy: 0.9107 - val_loss: 0.2825 - val_accuracy: 0.8908\n",
      "Epoch 21/50\n",
      "96/96 [==============================] - 0s 1ms/step - loss: 0.2262 - accuracy: 0.9170 - val_loss: 0.2916 - val_accuracy: 0.8950\n",
      "Epoch 22/50\n",
      "96/96 [==============================] - 0s 1ms/step - loss: 0.2205 - accuracy: 0.9244 - val_loss: 0.2847 - val_accuracy: 0.8908\n",
      "Epoch 23/50\n",
      "96/96 [==============================] - 0s 1ms/step - loss: 0.2196 - accuracy: 0.9191 - val_loss: 0.2810 - val_accuracy: 0.8950\n",
      "Epoch 24/50\n",
      "96/96 [==============================] - 0s 1ms/step - loss: 0.2119 - accuracy: 0.9244 - val_loss: 0.2904 - val_accuracy: 0.8782\n",
      "Epoch 25/50\n",
      "96/96 [==============================] - 0s 1ms/step - loss: 0.2042 - accuracy: 0.9317 - val_loss: 0.2786 - val_accuracy: 0.8950\n",
      "Epoch 26/50\n",
      "96/96 [==============================] - 0s 1ms/step - loss: 0.1992 - accuracy: 0.9244 - val_loss: 0.2887 - val_accuracy: 0.8908\n",
      "Epoch 27/50\n",
      "96/96 [==============================] - 0s 1ms/step - loss: 0.1941 - accuracy: 0.9317 - val_loss: 0.2777 - val_accuracy: 0.8950\n",
      "Epoch 28/50\n",
      "96/96 [==============================] - 0s 1ms/step - loss: 0.1921 - accuracy: 0.9349 - val_loss: 0.2806 - val_accuracy: 0.8824\n",
      "Epoch 29/50\n",
      "96/96 [==============================] - 0s 1ms/step - loss: 0.1857 - accuracy: 0.9380 - val_loss: 0.2743 - val_accuracy: 0.8908\n",
      "Epoch 30/50\n",
      "96/96 [==============================] - 0s 1ms/step - loss: 0.1741 - accuracy: 0.9391 - val_loss: 0.2667 - val_accuracy: 0.9118\n",
      "Epoch 31/50\n",
      "96/96 [==============================] - 0s 1ms/step - loss: 0.1732 - accuracy: 0.9401 - val_loss: 0.2767 - val_accuracy: 0.9076\n",
      "Epoch 32/50\n",
      "96/96 [==============================] - 0s 1ms/step - loss: 0.1663 - accuracy: 0.9380 - val_loss: 0.2716 - val_accuracy: 0.8866\n",
      "Epoch 33/50\n",
      "96/96 [==============================] - 0s 1ms/step - loss: 0.1616 - accuracy: 0.9464 - val_loss: 0.2615 - val_accuracy: 0.9118\n",
      "Epoch 34/50\n",
      "96/96 [==============================] - 0s 1ms/step - loss: 0.1589 - accuracy: 0.9496 - val_loss: 0.2788 - val_accuracy: 0.8866\n",
      "Epoch 35/50\n",
      "96/96 [==============================] - 0s 1ms/step - loss: 0.1588 - accuracy: 0.9422 - val_loss: 0.2527 - val_accuracy: 0.9202\n",
      "Epoch 36/50\n",
      "96/96 [==============================] - 0s 1ms/step - loss: 0.1486 - accuracy: 0.9527 - val_loss: 0.2627 - val_accuracy: 0.8908\n",
      "Epoch 37/50\n",
      "96/96 [==============================] - 0s 1ms/step - loss: 0.1518 - accuracy: 0.9527 - val_loss: 0.2564 - val_accuracy: 0.9160\n",
      "Epoch 38/50\n",
      "96/96 [==============================] - 0s 1ms/step - loss: 0.1368 - accuracy: 0.9580 - val_loss: 0.2589 - val_accuracy: 0.9076\n",
      "Epoch 39/50\n",
      "96/96 [==============================] - 0s 1ms/step - loss: 0.1349 - accuracy: 0.9559 - val_loss: 0.2518 - val_accuracy: 0.9118\n",
      "Epoch 40/50\n",
      "96/96 [==============================] - 0s 1ms/step - loss: 0.1321 - accuracy: 0.9569 - val_loss: 0.2465 - val_accuracy: 0.9118\n",
      "Epoch 41/50\n",
      "96/96 [==============================] - 0s 1ms/step - loss: 0.1282 - accuracy: 0.9611 - val_loss: 0.2551 - val_accuracy: 0.9160\n",
      "Epoch 42/50\n",
      "96/96 [==============================] - 0s 1ms/step - loss: 0.1231 - accuracy: 0.9632 - val_loss: 0.2749 - val_accuracy: 0.8992\n",
      "Epoch 43/50\n",
      "96/96 [==============================] - 0s 1ms/step - loss: 0.1206 - accuracy: 0.9611 - val_loss: 0.2549 - val_accuracy: 0.9034\n",
      "Epoch 44/50\n",
      "96/96 [==============================] - 0s 1ms/step - loss: 0.1112 - accuracy: 0.9674 - val_loss: 0.2529 - val_accuracy: 0.9160\n",
      "Epoch 45/50\n",
      "96/96 [==============================] - 0s 1ms/step - loss: 0.1102 - accuracy: 0.9632 - val_loss: 0.2835 - val_accuracy: 0.8992\n",
      "Epoch 46/50\n",
      "96/96 [==============================] - 0s 1ms/step - loss: 0.1090 - accuracy: 0.9695 - val_loss: 0.2821 - val_accuracy: 0.9076\n",
      "Epoch 47/50\n",
      "96/96 [==============================] - 0s 1ms/step - loss: 0.1048 - accuracy: 0.9737 - val_loss: 0.2631 - val_accuracy: 0.9076\n",
      "Epoch 48/50\n",
      "96/96 [==============================] - 0s 1ms/step - loss: 0.0987 - accuracy: 0.9716 - val_loss: 0.2630 - val_accuracy: 0.9076\n",
      "Epoch 49/50\n",
      "96/96 [==============================] - 0s 1ms/step - loss: 0.0954 - accuracy: 0.9716 - val_loss: 0.2682 - val_accuracy: 0.9076\n",
      "Epoch 50/50\n",
      "96/96 [==============================] - 0s 1ms/step - loss: 0.0925 - accuracy: 0.9737 - val_loss: 0.2691 - val_accuracy: 0.9118\n"
     ]
    }
   ],
   "execution_count": 9
  },
  {
   "cell_type": "code",
   "id": "3b6de23a-4f0d-4991-81c9-28435eb5fc36",
   "metadata": {
    "ExecuteTime": {
     "end_time": "2024-10-30T15:07:19.554944Z",
     "start_time": "2024-10-30T15:07:19.475409Z"
    }
   },
   "source": [
    "# Evaluating on test data\n",
    "loss, accuracy = model.evaluate(X_test, y_test)\n",
    "print(f\"Test Accuracy: {accuracy}\")"
   ],
   "outputs": [
    {
     "name": "stdout",
     "output_type": "stream",
     "text": [
      "8/8 [==============================] - 0s 1ms/step - loss: 0.2691 - accuracy: 0.9118\n",
      "Test Accuracy: 0.9117646813392639\n"
     ]
    }
   ],
   "execution_count": 10
  },
  {
   "cell_type": "code",
   "id": "e7a1937d-798b-4dff-a4d9-944f94a7ddf5",
   "metadata": {
    "ExecuteTime": {
     "end_time": "2024-10-30T15:07:19.712280Z",
     "start_time": "2024-10-30T15:07:19.570964Z"
    }
   },
   "source": [
    "# Classification report\n",
    "y_pred = (model.predict(X_test) > 0.5).astype(\"int32\")\n",
    "print(classification_report(y_test, y_pred))"
   ],
   "outputs": [
    {
     "name": "stdout",
     "output_type": "stream",
     "text": [
      "8/8 [==============================] - 0s 1ms/step\n",
      "              precision    recall  f1-score   support\n",
      "\n",
      "           0       0.91      0.89      0.90       107\n",
      "           1       0.91      0.93      0.92       131\n",
      "\n",
      "    accuracy                           0.91       238\n",
      "   macro avg       0.91      0.91      0.91       238\n",
      "weighted avg       0.91      0.91      0.91       238\n",
      "\n"
     ]
    }
   ],
   "execution_count": 11
  },
  {
   "cell_type": "code",
   "id": "9ff0d7a9-8b23-4242-bd8d-a44f8c57e5a5",
   "metadata": {
    "ExecuteTime": {
     "end_time": "2024-10-30T15:07:20.036763Z",
     "start_time": "2024-10-30T15:07:19.729003Z"
    }
   },
   "source": [
    "# Plotting training and validation accuracy\n",
    "plt.plot(history.history['accuracy'], label='Train Accuracy')\n",
    "plt.plot(history.history['val_accuracy'], label='Validation Accuracy')\n",
    "plt.xlabel('Epochs')\n",
    "plt.ylabel('Accuracy')\n",
    "plt.legend()\n",
    "plt.show()"
   ],
   "outputs": [
    {
     "data": {
      "text/plain": [
       "<Figure size 640x480 with 1 Axes>"
      ],
      "image/png": "[encoded data removed]"
     },
     "metadata": {},
     "output_type": "display_data"
    }
   ],
   "execution_count": 12
  },
  {
   "cell_type": "code",
   "id": "11625e11-b780-4d31-9313-217b80c30899",
   "metadata": {
    "ExecuteTime": {
     "end_time": "2024-10-30T15:07:20.142138Z",
     "start_time": "2024-10-30T15:07:20.069242Z"
    }
   },
   "source": [
    "model.save('heart_disease_model.h5')\n",
    "joblib.dump(scaler, 'scaler.pkl')"
   ],
   "outputs": [
    {
     "name": "stderr",
     "output_type": "stream",
     "text": [
      "C:\\Users\\Kruti Agrawal\\anaconda3\\envs\\new_env\\lib\\site-packages\\keras\\src\\engine\\training.py:3000: UserWarning: You are saving your model as an HDF5 file via `model.save()`. This file format is considered legacy. We recommend using instead the native Keras format, e.g. `model.save('my_model.keras')`.\n",
      "  saving_api.save_model(\n"
     ]
    },
    {
     "data": {
      "text/plain": [
       "['scaler.pkl']"
      ]
     },
     "execution_count": 13,
     "metadata": {},
     "output_type": "execute_result"
    }
   ],
   "execution_count": 13
  }
 ],
 "metadata": {
  "kernelspec": {
   "display_name": "Python 3 (ipykernel)",
   "language": "python",
   "name": "python3"
  },
  "language_info": {
   "codemirror_mode": {
    "name": "ipython",
    "version": 3
   },
   "file_extension": ".py",
   "mimetype": "text/x-python",
   "name": "python",
   "nbconvert_exporter": "python",
   "pygments_lexer": "ipython3",
   "version": "3.12.4"
  }
 },
 "nbformat": 4,
 "nbformat_minor": 5
}
